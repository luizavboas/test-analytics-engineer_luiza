{
 "cells": [
  {
   "cell_type": "code",
   "execution_count": 178,
   "metadata": {},
   "outputs": [],
   "source": [
    "#Loading modules \n",
    "\n",
    "# Preprocessing and splitting modules\n",
    "from sklearn.preprocessing import StandardScaler\n",
    "from sklearn.model_selection import (\n",
    "train_test_split, KFold, StratifiedShuffleSplit)\n",
    "\n",
    "# Learnign Algorithms Modules\n",
    "\n",
    "from sklearn.linear_model import LinearRegression\n",
    "from sklearn.metrics import mean_squared_error\n",
    "\n",
    "import pandas as pd\n",
    "import numpy as np\n"
   ]
  },
  {
   "cell_type": "code",
   "execution_count": 173,
   "metadata": {},
   "outputs": [
    {
     "name": "stderr",
     "output_type": "stream",
     "text": [
      "C:\\Users\\luiza\\AppData\\Local\\Temp\\ipykernel_9580\\3267694591.py:16: FutureWarning: The default value of numeric_only in DataFrameGroupBy.mean is deprecated. In a future version, numeric_only will default to False. Either specify numeric_only or select only columns which should be valid for the function.\n",
      "  ).mean()[[\"FinalPrice\"]].reset_index()\n"
     ]
    }
   ],
   "source": [
    "# Folder path\n",
    "path =  \"../data/\"\n",
    "\n",
    "# Which values are considered NaN\n",
    "na_vls = ['#N/A', '#N/A N/A', '#NA', '-1.#IND', '-1.#QNAN', '-NaN', '-nan', \n",
    "               '1.#IND', '1.#QNAN', '<NA>', 'N/A', 'NA', 'NULL', 'NaN', 'n/a', 'nan', \n",
    "                'null', '...']\n",
    "\n",
    "# Load datasets\n",
    "df_products = pd.read_csv(path+\"New_ProdutosVarejos.csv\", na_values = na_vls)\n",
    "df_clts = pd.read_csv(path+\"New_Coletas.csv\", na_values = na_vls)\n",
    "\n",
    "df_join = df_products.merge(right = df_clts, how='inner',\\\n",
    "                    on = 'MasterKey_RetailerProduct').groupby(\\\n",
    "                        [\"Department\", \"Category\", \"Customer\", \"Product\",\"Specifics\", \"DateIns\",\"Brand\", \"EAN\", \"Retailer\"]\\\n",
    "                            ).mean()[[\"FinalPrice\"]].reset_index()\n",
    "\n"
   ]
  },
  {
   "cell_type": "code",
   "execution_count": 174,
   "metadata": {},
   "outputs": [
    {
     "data": {
      "text/html": [
       "<div>\n",
       "<style scoped>\n",
       "    .dataframe tbody tr th:only-of-type {\n",
       "        vertical-align: middle;\n",
       "    }\n",
       "\n",
       "    .dataframe tbody tr th {\n",
       "        vertical-align: top;\n",
       "    }\n",
       "\n",
       "    .dataframe thead th {\n",
       "        text-align: right;\n",
       "    }\n",
       "</style>\n",
       "<table border=\"1\" class=\"dataframe\">\n",
       "  <thead>\n",
       "    <tr style=\"text-align: right;\">\n",
       "      <th></th>\n",
       "      <th>DateIns</th>\n",
       "      <th>FinalPrice</th>\n",
       "    </tr>\n",
       "  </thead>\n",
       "  <tbody>\n",
       "    <tr>\n",
       "      <th>0</th>\n",
       "      <td>2023-05-01</td>\n",
       "      <td>25.037204</td>\n",
       "    </tr>\n",
       "    <tr>\n",
       "      <th>1</th>\n",
       "      <td>2023-05-02</td>\n",
       "      <td>23.683590</td>\n",
       "    </tr>\n",
       "    <tr>\n",
       "      <th>2</th>\n",
       "      <td>2023-05-03</td>\n",
       "      <td>27.219812</td>\n",
       "    </tr>\n",
       "    <tr>\n",
       "      <th>3</th>\n",
       "      <td>2023-05-04</td>\n",
       "      <td>28.852193</td>\n",
       "    </tr>\n",
       "    <tr>\n",
       "      <th>4</th>\n",
       "      <td>2023-05-05</td>\n",
       "      <td>29.544878</td>\n",
       "    </tr>\n",
       "    <tr>\n",
       "      <th>...</th>\n",
       "      <td>...</td>\n",
       "      <td>...</td>\n",
       "    </tr>\n",
       "    <tr>\n",
       "      <th>56</th>\n",
       "      <td>2023-06-26</td>\n",
       "      <td>27.752290</td>\n",
       "    </tr>\n",
       "    <tr>\n",
       "      <th>57</th>\n",
       "      <td>2023-06-27</td>\n",
       "      <td>26.908309</td>\n",
       "    </tr>\n",
       "    <tr>\n",
       "      <th>58</th>\n",
       "      <td>2023-06-28</td>\n",
       "      <td>28.499029</td>\n",
       "    </tr>\n",
       "    <tr>\n",
       "      <th>59</th>\n",
       "      <td>2023-06-29</td>\n",
       "      <td>25.556258</td>\n",
       "    </tr>\n",
       "    <tr>\n",
       "      <th>60</th>\n",
       "      <td>2023-06-30</td>\n",
       "      <td>27.230591</td>\n",
       "    </tr>\n",
       "  </tbody>\n",
       "</table>\n",
       "<p>61 rows × 2 columns</p>\n",
       "</div>"
      ],
      "text/plain": [
       "       DateIns  FinalPrice\n",
       "0   2023-05-01   25.037204\n",
       "1   2023-05-02   23.683590\n",
       "2   2023-05-03   27.219812\n",
       "3   2023-05-04   28.852193\n",
       "4   2023-05-05   29.544878\n",
       "..         ...         ...\n",
       "56  2023-06-26   27.752290\n",
       "57  2023-06-27   26.908309\n",
       "58  2023-06-28   28.499029\n",
       "59  2023-06-29   25.556258\n",
       "60  2023-06-30   27.230591\n",
       "\n",
       "[61 rows x 2 columns]"
      ]
     },
     "execution_count": 174,
     "metadata": {},
     "output_type": "execute_result"
    }
   ],
   "source": [
    "selected_customer = 'Unilever'\n",
    "selected_brand = 'Dove'\n",
    "\n",
    "df_join = df_join[(df_join[\"Customer\"]==selected_customer)&\n",
    "              (df_join[\"Brand\"]==selected_brand)  ]\n",
    "\n",
    "selected_product = 'Condicionador'\n",
    "\n",
    "df_join = df_join[(df_join[\"Product\"].str.find(selected_product)!=-1)].groupby(\"DateIns\")[\"FinalPrice\"].mean().reset_index()\n",
    "df_join"
   ]
  },
  {
   "cell_type": "code",
   "execution_count": 177,
   "metadata": {},
   "outputs": [
    {
     "name": "stdout",
     "output_type": "stream",
     "text": [
      "Mean Squared Error: 1.3077456431793297\n"
     ]
    },
    {
     "data": {
      "image/png": "[encoded data removed]",
      "text/plain": [
       "<Figure size 800x600 with 1 Axes>"
      ]
     },
     "metadata": {},
     "output_type": "display_data"
    }
   ],
   "source": [
    "df = pd.DataFrame(df_join)\n",
    "\n",
    "df['DateIns'] = pd.to_datetime(df['DateIns'])\n",
    "\n",
    "# Feature engineering: Extract day of the year as a feature\n",
    "df['DayOfYear'] = df['DateIns'].dt.dayofyear\n",
    "\n",
    "df = df.reset_index()\n",
    "\n",
    "# Split data into features (X) and target (y)\n",
    "X = df[['DayOfYear']]\n",
    "y = df[\"FinalPrice\"]\n",
    "\n",
    "# Split data into training and testing sets\n",
    "X_train, X_test, y_train, y_test = train_test_split(X, y, test_size=0.25, shuffle=False)\n",
    "\n",
    "# Initialize and train the linear regression model\n",
    "model = LinearRegression()\n",
    "model.fit(X_train, y_train)\n",
    "\n",
    "# Make predictions\n",
    "y_pred = model.predict(X_test)\n",
    "\n",
    "# Evaluate the model\n",
    "mse = mean_squared_error(y_test, y_pred)\n",
    "print(\"Mean Squared Error:\", mse)\n",
    "\n",
    "# Visualize the predictions and actual prices\n",
    "plt.figure(figsize=(8, 6))\n",
    "plt.scatter(X_test, y_test, label='Actual Prices')\n",
    "plt.plot(X_test, y_pred, label='Predicted Prices', color='red')\n",
    "plt.xlabel('Day of Year')\n",
    "plt.ylabel('Price (R$)')\n",
    "plt.title('Price Prediction using Linear Regression')\n",
    "plt.legend()\n",
    "plt.grid(True)\n",
    "plt.show()\n",
    "\n"
   ]
  },
  {
   "cell_type": "code",
   "execution_count": null,
   "metadata": {},
   "outputs": [],
   "source": []
  }
 ],
 "metadata": {
  "kernelspec": {
   "display_name": "Python 3",
   "language": "python",
   "name": "python3"
  },
  "language_info": {
   "codemirror_mode": {
    "name": "ipython",
    "version": 3
   },
   "file_extension": ".py",
   "mimetype": "text/x-python",
   "name": "python",
   "nbconvert_exporter": "python",
   "pygments_lexer": "ipython3",
   "version": "3.10.7"
  },
  "orig_nbformat": 4
 },
 "nbformat": 4,
 "nbformat_minor": 2
}
